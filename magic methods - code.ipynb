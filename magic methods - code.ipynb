{
 "cells": [
  {
   "cell_type": "code",
   "execution_count": 17,
   "metadata": {},
   "outputs": [],
   "source": [
    "class Astronaut:\n",
    "    \"\"\"Astronaut class\"\"\"\n",
    "\n",
    "    def __init__(self, name, status, flight_hr):\n",
    "        self._name = name\n",
    "        self._status = status\n",
    "        self._flight_hr = flight_hr\n",
    "    \n",
    "    def __str__(self):\n",
    "        return f\"{self._name}, {self._status}\"\n",
    "\n",
    "    def __gt__(self, other):\n",
    "        print('__gt__ called - self: %s, other: %s' % (self,other))\n",
    "        return self._flight_hr > other._flight_hr\n",
    "\n",
    "    def __ge__(self,other):\n",
    "        print('__ge__ called')\n",
    "        return self._flight_hr >= other._flight_hr\n",
    "\n",
    "    def __eq__(self,other):\n",
    "        print('__eq__ called')\n",
    "        return self._flight_hr == other._flight_hr\n",
    "\n",
    "import csv\n"
   ]
  }
 ],
 "metadata": {
  "interpreter": {
   "hash": "86d1a67b0d56e74f294bd0a89711776805270fb9ebddae761db44ecf66e3b529"
  },
  "kernelspec": {
   "display_name": "Python 3.9.7 64-bit ('base': conda)",
   "language": "python",
   "name": "python3"
  },
  "language_info": {
   "codemirror_mode": {
    "name": "ipython",
    "version": 3
   },
   "file_extension": ".py",
   "mimetype": "text/x-python",
   "name": "python",
   "nbconvert_exporter": "python",
   "pygments_lexer": "ipython3",
   "version": "3.9.7"
  },
  "orig_nbformat": 4
 },
 "nbformat": 4,
 "nbformat_minor": 2
}
