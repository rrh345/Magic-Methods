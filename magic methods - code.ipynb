{
 "cells": [
  {
   "cell_type": "code",
   "execution_count": 1,
   "metadata": {},
   "outputs": [],
   "source": [
    "class Astronaut:\n",
    "    \"\"\"Astronaut class\"\"\"\n",
    "    def __new__(self, name, status, flight_hr):\n",
    "        self._name = name\n",
    "        self._status = status\n",
    "        self._flight_hr = flight_hr\n",
    "\n",
    "    def __init__(self, name, status, flight_hr):\n",
    "        self._name = name\n",
    "        self._status = status\n",
    "        self._flight_hr = flight_hr\n",
    "\n",
    "    @property\n",
    "    def name(self):\n",
    "        return self._name\n",
    "    \n",
    "    @property\n",
    "    def status(self):\n",
    "        return self._status\n",
    "\n",
    "    @property\n",
    "    def flight_hr(self):\n",
    "        return self._flight_hr\n",
    "    \n",
    "    def __repr__(self):\n",
    "        return 'Age(%s,%s)' % (self.amount, self.unit)\n",
    "\n",
    "    def __gt__(self, other):\n",
    "        print('__gt__ called - self: %s, other: %s' % (self,other))\n",
    "        return self._flight_hr > other._flight_hr\n",
    "\n",
    "    def __ge__(self,other):\n",
    "        print('__ge__ called')\n",
    "        return self._flight_hr >= other._flight_hr\n",
    "\n",
    "    def __eq__(self,other):\n",
    "        print('__eq__ called')\n",
    "        return self._flight_hr == other._flight_hr"
   ]
  },
  {
   "cell_type": "code",
   "execution_count": 2,
   "metadata": {},
   "outputs": [
    {
     "ename": "TypeError",
     "evalue": "'>' not supported between instances of 'NoneType' and 'NoneType'",
     "output_type": "error",
     "traceback": [
      "\u001b[1;31m---------------------------------------------------------------------------\u001b[0m",
      "\u001b[1;31mTypeError\u001b[0m                                 Traceback (most recent call last)",
      "\u001b[1;32m~\\AppData\\Local\\Temp/ipykernel_15820/1415230164.py\u001b[0m in \u001b[0;36m<module>\u001b[1;34m\u001b[0m\n\u001b[0;32m      2\u001b[0m \u001b[0mastronaut2\u001b[0m \u001b[1;33m=\u001b[0m \u001b[0mAstronaut\u001b[0m\u001b[1;33m(\u001b[0m\u001b[1;34m\"Loren W. Acton\"\u001b[0m\u001b[1;33m,\u001b[0m \u001b[1;34m\"Retired\"\u001b[0m\u001b[1;33m,\u001b[0m \u001b[1;36m190\u001b[0m\u001b[1;33m)\u001b[0m\u001b[1;33m\u001b[0m\u001b[1;33m\u001b[0m\u001b[0m\n\u001b[0;32m      3\u001b[0m \u001b[1;33m\u001b[0m\u001b[0m\n\u001b[1;32m----> 4\u001b[1;33m \u001b[0mastronaut1\u001b[0m \u001b[1;33m>\u001b[0m \u001b[0mastronaut2\u001b[0m\u001b[1;33m\u001b[0m\u001b[1;33m\u001b[0m\u001b[0m\n\u001b[0m",
      "\u001b[1;31mTypeError\u001b[0m: '>' not supported between instances of 'NoneType' and 'NoneType'"
     ]
    }
   ],
   "source": [
    "astronaut1 = Astronaut(\"Joseph M. Acaba\", \"Active\", 3307)\n",
    "astronaut2 = Astronaut(\"Loren W. Acton\", \"Retired\", 190)\n",
    "\n",
    "astronaut1 > astronaut2"
   ]
  }
 ],
 "metadata": {
  "interpreter": {
   "hash": "86d1a67b0d56e74f294bd0a89711776805270fb9ebddae761db44ecf66e3b529"
  },
  "kernelspec": {
   "display_name": "Python 3.9.7 64-bit ('base': conda)",
   "language": "python",
   "name": "python3"
  },
  "language_info": {
   "codemirror_mode": {
    "name": "ipython",
    "version": 3
   },
   "file_extension": ".py",
   "mimetype": "text/x-python",
   "name": "python",
   "nbconvert_exporter": "python",
   "pygments_lexer": "ipython3",
   "version": "3.9.7"
  },
  "orig_nbformat": 4
 },
 "nbformat": 4,
 "nbformat_minor": 2
}
